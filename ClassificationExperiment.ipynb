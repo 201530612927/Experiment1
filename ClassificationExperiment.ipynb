﻿# -*- coding: utf-8 -*-
 
from sklearn.externals.joblib import Memory
from sklearn.datasets import load_svmlight_file
from sklearn.model_selection import train_test_split
import numpy as np
from matplotlib import pyplot as plt
import warnings
warnings.filterwarnings("ignore")

mem = Memory("./mycache")

@mem.cache
def get_data():
    data = load_svmlight_file("C:/Users/wangyu/Desktop/australian_scale.txt")
    return data[0], data[1]


#  loss function
def loss(X, y, theta, C):
    l = 0
    idex = 0
    y = mat(y)
    y = y.T
    for line in y:
        s = (y[idex,:] * (np.dot(X[idex,:], theta))).sum()
        l = (theta ** 2).sum() / 2 + C * max(0,1 - s)     
        idex = idex+1
    return l                     

def grad(X, y, w, C):    #梯度#w是要更新的参数
    temp = np.zeros(len(w))
    for i in range(X.shape[0]):
        if y[i] * (X[i,:].dot(w)) < 1:
            temp += -y[i] * X[i,:]
    return w + C * temp
    

#读取实验数据
X, y = get_data()
X = X.toarray()#将X转化为数组

#在训练集前添加一列1
X = np.c_[np.ones(len(X)), X]

#数据集切分
X_train,X_test, y_train, y_test = train_test_split(X, y, test_size=0.5, random_state=42)

#参数初始化
w = np.zeros(X_train.shape[1])
C = 5

L_train = []
L_validation = []
iters = 150#迭代次数
for i in range(iters):
    #求梯度
    G = grad(X_train, y_train, w, C)
    learning_rate = 0.00005#学习率
    #更新参数
    w = w - learning_rate * G
    L_train.append(loss(X_train, y_train, w, C))
    L_validation.append(loss(X_test, y_test, w, C))
    
#画图
plt.plot(range(iters),L_train,label='train loss')
plt.plot(range(iters),L_validation, label='validation loss')
plt.xlabel('iters')#x轴
plt.ylabel('loss')#y轴
plt.legend()
plt.show()